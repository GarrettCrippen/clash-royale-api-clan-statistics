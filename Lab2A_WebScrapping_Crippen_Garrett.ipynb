{
 "cells": [
  {
   "cell_type": "raw",
   "metadata": {},
   "source": [
    "Lab2A: WebScraping\n"
   ]
  },
  {
   "cell_type": "code",
   "execution_count": 1,
   "metadata": {},
   "outputs": [],
   "source": [
    "#Get html from tennis website\n",
    "\n",
    "import requests\n",
    "response = requests.get(\"https://www.atptour.com/en/rankings/singles\")"
   ]
  },
  {
   "cell_type": "code",
   "execution_count": 2,
   "metadata": {},
   "outputs": [],
   "source": [
    "#import beautiful soup to parse html\n",
    "\n",
    "from bs4 import BeautifulSoup\n",
    "soup = BeautifulSoup(response.content,\"html.parser\")\n"
   ]
  },
  {
   "cell_type": "code",
   "execution_count": 14,
   "metadata": {},
   "outputs": [
    {
     "name": "stdout",
     "output_type": "stream",
     "text": [
      "<class 'list'>\n"
     ]
    }
   ],
   "source": [
    "#search for headings and creates array\n",
    "rows = []\n",
    "\n",
    "#tag tr stores tennis players and all information into a list\n",
    "tag = soup.find_all('tr')\n",
    "for element in tag:\n",
    "    if element.contents[1].name == 'td':\n",
    "        ranking = element.contents[1].string.strip()\n",
    "        name =  element.find(\"span\",{\"class\": \"player-cell-wrapper\"}).a['ga-label'].strip()\n",
    "        age = element.find(\"td\",{\"class\": \"age-cell\"}).string.strip()\n",
    "        points = element.find(\"td\",{\"class\": \"points-cell\"}).a.string.strip()\n",
    "        rows.append([ranking,name,age,points])\n",
    "   \n",
    "print(type(rows))"
   ]
  },
  {
   "cell_type": "code",
   "execution_count": 15,
   "metadata": {},
   "outputs": [
    {
     "data": {
      "text/html": [
       "<div>\n",
       "<style scoped>\n",
       "    .dataframe tbody tr th:only-of-type {\n",
       "        vertical-align: middle;\n",
       "    }\n",
       "\n",
       "    .dataframe tbody tr th {\n",
       "        vertical-align: top;\n",
       "    }\n",
       "\n",
       "    .dataframe thead th {\n",
       "        text-align: right;\n",
       "    }\n",
       "</style>\n",
       "<table border=\"1\" class=\"dataframe\">\n",
       "  <thead>\n",
       "    <tr style=\"text-align: right;\">\n",
       "      <th></th>\n",
       "      <th>Name</th>\n",
       "      <th>Age</th>\n",
       "      <th>Points</th>\n",
       "    </tr>\n",
       "    <tr>\n",
       "      <th>Ranking</th>\n",
       "      <th></th>\n",
       "      <th></th>\n",
       "      <th></th>\n",
       "    </tr>\n",
       "  </thead>\n",
       "  <tbody>\n",
       "    <tr>\n",
       "      <th>1</th>\n",
       "      <td>Novak Djokovic</td>\n",
       "      <td>34</td>\n",
       "      <td>12,113</td>\n",
       "    </tr>\n",
       "    <tr>\n",
       "      <th>2</th>\n",
       "      <td>Daniil Medvedev</td>\n",
       "      <td>25</td>\n",
       "      <td>10,220</td>\n",
       "    </tr>\n",
       "    <tr>\n",
       "      <th>3</th>\n",
       "      <td>Rafael Nadal</td>\n",
       "      <td>35</td>\n",
       "      <td>8,270</td>\n",
       "    </tr>\n",
       "    <tr>\n",
       "      <th>4</th>\n",
       "      <td>Stefanos Tsitsipas</td>\n",
       "      <td>22</td>\n",
       "      <td>8,000</td>\n",
       "    </tr>\n",
       "    <tr>\n",
       "      <th>5</th>\n",
       "      <td>Alexander Zverev</td>\n",
       "      <td>24</td>\n",
       "      <td>7,340</td>\n",
       "    </tr>\n",
       "    <tr>\n",
       "      <th>...</th>\n",
       "      <td>...</td>\n",
       "      <td>...</td>\n",
       "      <td>...</td>\n",
       "    </tr>\n",
       "    <tr>\n",
       "      <th>96</th>\n",
       "      <td>Roberto Carballes Baena</td>\n",
       "      <td>28</td>\n",
       "      <td>819</td>\n",
       "    </tr>\n",
       "    <tr>\n",
       "      <th>97</th>\n",
       "      <td>Jo-Wilfried Tsonga</td>\n",
       "      <td>36</td>\n",
       "      <td>813</td>\n",
       "    </tr>\n",
       "    <tr>\n",
       "      <th>98</th>\n",
       "      <td>Stefano Travaglia</td>\n",
       "      <td>29</td>\n",
       "      <td>811</td>\n",
       "    </tr>\n",
       "    <tr>\n",
       "      <th>99</th>\n",
       "      <td>Pablo Cuevas</td>\n",
       "      <td>35</td>\n",
       "      <td>807</td>\n",
       "    </tr>\n",
       "    <tr>\n",
       "      <th>100</th>\n",
       "      <td>Pierre-Hugues Herbert</td>\n",
       "      <td>30</td>\n",
       "      <td>795</td>\n",
       "    </tr>\n",
       "  </tbody>\n",
       "</table>\n",
       "<p>100 rows × 3 columns</p>\n",
       "</div>"
      ],
      "text/plain": [
       "                            Name Age  Points\n",
       "Ranking                                     \n",
       "1                 Novak Djokovic  34  12,113\n",
       "2                Daniil Medvedev  25  10,220\n",
       "3                   Rafael Nadal  35   8,270\n",
       "4             Stefanos Tsitsipas  22   8,000\n",
       "5               Alexander Zverev  24   7,340\n",
       "...                          ...  ..     ...\n",
       "96       Roberto Carballes Baena  28     819\n",
       "97            Jo-Wilfried Tsonga  36     813\n",
       "98             Stefano Travaglia  29     811\n",
       "99                  Pablo Cuevas  35     807\n",
       "100        Pierre-Hugues Herbert  30     795\n",
       "\n",
       "[100 rows x 3 columns]"
      ]
     },
     "execution_count": 15,
     "metadata": {},
     "output_type": "execute_result"
    }
   ],
   "source": [
    "#create dataframe from list\n",
    "import pandas as pd\n",
    "df = pd.DataFrame(rows)\n",
    "df = df.rename(columns = {0:'Ranking',1:'Name',2:'Age',3:'Points'})\n",
    "df = df.set_index('Ranking')\n",
    "df"
   ]
  }
 ],
 "metadata": {
  "colab": {
   "name": "Web Scraping .ipynb",
   "provenance": []
  },
  "kernelspec": {
   "display_name": "Python 3",
   "language": "python",
   "name": "python3"
  },
  "language_info": {
   "codemirror_mode": {
    "name": "ipython",
    "version": 3
   },
   "file_extension": ".py",
   "mimetype": "text/x-python",
   "name": "python",
   "nbconvert_exporter": "python",
   "pygments_lexer": "ipython3",
   "version": "3.8.10"
  }
 },
 "nbformat": 4,
 "nbformat_minor": 4
}
